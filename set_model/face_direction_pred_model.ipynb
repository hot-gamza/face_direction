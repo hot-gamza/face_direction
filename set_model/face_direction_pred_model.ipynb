{
 "cells": [
  {
   "cell_type": "code",
   "execution_count": 3,
   "metadata": {},
   "outputs": [],
   "source": [
    "import pandas as pd\n",
    "from sklearn.preprocessing import StandardScaler\n",
    "from sklearn.pipeline import make_pipeline\n",
    "\n",
    "from sklearn.linear_model import LogisticRegression\n",
    "from sklearn.ensemble import RandomForestClassifier\n",
    "from sklearn.neighbors import KNeighborsClassifier\n",
    "from sklearn.neural_network import MLPClassifier\n",
    "\n",
    "from sklearn.model_selection import train_test_split\n",
    "from sklearn.metrics import accuracy_score\n",
    "import pickle\n",
    "from sklearn import preprocessing"
   ]
  },
  {
   "cell_type": "code",
   "execution_count": 4,
   "metadata": {},
   "outputs": [
    {
     "data": {
      "text/html": [
       "<div>\n",
       "<style scoped>\n",
       "    .dataframe tbody tr th:only-of-type {\n",
       "        vertical-align: middle;\n",
       "    }\n",
       "\n",
       "    .dataframe tbody tr th {\n",
       "        vertical-align: top;\n",
       "    }\n",
       "\n",
       "    .dataframe thead th {\n",
       "        text-align: right;\n",
       "    }\n",
       "</style>\n",
       "<table border=\"1\" class=\"dataframe\">\n",
       "  <thead>\n",
       "    <tr style=\"text-align: right;\">\n",
       "      <th></th>\n",
       "      <th>class</th>\n",
       "      <th>x1</th>\n",
       "      <th>y1</th>\n",
       "      <th>z1</th>\n",
       "      <th>x2</th>\n",
       "      <th>y2</th>\n",
       "      <th>z2</th>\n",
       "      <th>x3</th>\n",
       "      <th>y3</th>\n",
       "      <th>z3</th>\n",
       "      <th>...</th>\n",
       "      <th>z465</th>\n",
       "      <th>x466</th>\n",
       "      <th>y466</th>\n",
       "      <th>z466</th>\n",
       "      <th>x467</th>\n",
       "      <th>y467</th>\n",
       "      <th>z467</th>\n",
       "      <th>x468</th>\n",
       "      <th>y468</th>\n",
       "      <th>z468</th>\n",
       "    </tr>\n",
       "  </thead>\n",
       "  <tbody>\n",
       "    <tr>\n",
       "      <th>0</th>\n",
       "      <td>front</td>\n",
       "      <td>0.523401</td>\n",
       "      <td>0.546416</td>\n",
       "      <td>-0.031004</td>\n",
       "      <td>0.522318</td>\n",
       "      <td>0.494790</td>\n",
       "      <td>-0.056264</td>\n",
       "      <td>0.523530</td>\n",
       "      <td>0.510312</td>\n",
       "      <td>-0.029178</td>\n",
       "      <td>...</td>\n",
       "      <td>-0.000291</td>\n",
       "      <td>0.544552</td>\n",
       "      <td>0.415327</td>\n",
       "      <td>-0.007567</td>\n",
       "      <td>0.605306</td>\n",
       "      <td>0.404497</td>\n",
       "      <td>0.010551</td>\n",
       "      <td>0.610314</td>\n",
       "      <td>0.400476</td>\n",
       "      <td>0.010562</td>\n",
       "    </tr>\n",
       "    <tr>\n",
       "      <th>1</th>\n",
       "      <td>front</td>\n",
       "      <td>0.527985</td>\n",
       "      <td>0.545540</td>\n",
       "      <td>-0.030327</td>\n",
       "      <td>0.526692</td>\n",
       "      <td>0.493189</td>\n",
       "      <td>-0.055861</td>\n",
       "      <td>0.527911</td>\n",
       "      <td>0.509185</td>\n",
       "      <td>-0.029128</td>\n",
       "      <td>...</td>\n",
       "      <td>0.000195</td>\n",
       "      <td>0.549119</td>\n",
       "      <td>0.415123</td>\n",
       "      <td>-0.007184</td>\n",
       "      <td>0.608745</td>\n",
       "      <td>0.404812</td>\n",
       "      <td>0.011195</td>\n",
       "      <td>0.613737</td>\n",
       "      <td>0.401184</td>\n",
       "      <td>0.011214</td>\n",
       "    </tr>\n",
       "    <tr>\n",
       "      <th>2</th>\n",
       "      <td>front</td>\n",
       "      <td>0.533211</td>\n",
       "      <td>0.544929</td>\n",
       "      <td>-0.030673</td>\n",
       "      <td>0.532371</td>\n",
       "      <td>0.492677</td>\n",
       "      <td>-0.056250</td>\n",
       "      <td>0.533258</td>\n",
       "      <td>0.509055</td>\n",
       "      <td>-0.029340</td>\n",
       "      <td>...</td>\n",
       "      <td>0.000696</td>\n",
       "      <td>0.554287</td>\n",
       "      <td>0.414252</td>\n",
       "      <td>-0.006744</td>\n",
       "      <td>0.614290</td>\n",
       "      <td>0.403883</td>\n",
       "      <td>0.012453</td>\n",
       "      <td>0.619298</td>\n",
       "      <td>0.400437</td>\n",
       "      <td>0.012563</td>\n",
       "    </tr>\n",
       "    <tr>\n",
       "      <th>3</th>\n",
       "      <td>front</td>\n",
       "      <td>0.553684</td>\n",
       "      <td>0.543337</td>\n",
       "      <td>-0.030966</td>\n",
       "      <td>0.553896</td>\n",
       "      <td>0.491739</td>\n",
       "      <td>-0.056676</td>\n",
       "      <td>0.554189</td>\n",
       "      <td>0.507507</td>\n",
       "      <td>-0.029460</td>\n",
       "      <td>...</td>\n",
       "      <td>0.000320</td>\n",
       "      <td>0.574552</td>\n",
       "      <td>0.414261</td>\n",
       "      <td>-0.007161</td>\n",
       "      <td>0.633990</td>\n",
       "      <td>0.405029</td>\n",
       "      <td>0.012833</td>\n",
       "      <td>0.639027</td>\n",
       "      <td>0.401376</td>\n",
       "      <td>0.013012</td>\n",
       "    </tr>\n",
       "    <tr>\n",
       "      <th>4</th>\n",
       "      <td>front</td>\n",
       "      <td>0.567891</td>\n",
       "      <td>0.542023</td>\n",
       "      <td>-0.031862</td>\n",
       "      <td>0.568234</td>\n",
       "      <td>0.489094</td>\n",
       "      <td>-0.056737</td>\n",
       "      <td>0.568619</td>\n",
       "      <td>0.505762</td>\n",
       "      <td>-0.029968</td>\n",
       "      <td>...</td>\n",
       "      <td>0.001438</td>\n",
       "      <td>0.591113</td>\n",
       "      <td>0.413222</td>\n",
       "      <td>-0.006068</td>\n",
       "      <td>0.651349</td>\n",
       "      <td>0.405334</td>\n",
       "      <td>0.013616</td>\n",
       "      <td>0.656579</td>\n",
       "      <td>0.401267</td>\n",
       "      <td>0.013816</td>\n",
       "    </tr>\n",
       "  </tbody>\n",
       "</table>\n",
       "<p>5 rows × 1405 columns</p>\n",
       "</div>"
      ],
      "text/plain": [
       "   class        x1        y1        z1        x2        y2        z2  \\\n",
       "0  front  0.523401  0.546416 -0.031004  0.522318  0.494790 -0.056264   \n",
       "1  front  0.527985  0.545540 -0.030327  0.526692  0.493189 -0.055861   \n",
       "2  front  0.533211  0.544929 -0.030673  0.532371  0.492677 -0.056250   \n",
       "3  front  0.553684  0.543337 -0.030966  0.553896  0.491739 -0.056676   \n",
       "4  front  0.567891  0.542023 -0.031862  0.568234  0.489094 -0.056737   \n",
       "\n",
       "         x3        y3        z3  ...      z465      x466      y466      z466  \\\n",
       "0  0.523530  0.510312 -0.029178  ... -0.000291  0.544552  0.415327 -0.007567   \n",
       "1  0.527911  0.509185 -0.029128  ...  0.000195  0.549119  0.415123 -0.007184   \n",
       "2  0.533258  0.509055 -0.029340  ...  0.000696  0.554287  0.414252 -0.006744   \n",
       "3  0.554189  0.507507 -0.029460  ...  0.000320  0.574552  0.414261 -0.007161   \n",
       "4  0.568619  0.505762 -0.029968  ...  0.001438  0.591113  0.413222 -0.006068   \n",
       "\n",
       "       x467      y467      z467      x468      y468      z468  \n",
       "0  0.605306  0.404497  0.010551  0.610314  0.400476  0.010562  \n",
       "1  0.608745  0.404812  0.011195  0.613737  0.401184  0.011214  \n",
       "2  0.614290  0.403883  0.012453  0.619298  0.400437  0.012563  \n",
       "3  0.633990  0.405029  0.012833  0.639027  0.401376  0.013012  \n",
       "4  0.651349  0.405334  0.013616  0.656579  0.401267  0.013816  \n",
       "\n",
       "[5 rows x 1405 columns]"
      ]
     },
     "execution_count": 4,
     "metadata": {},
     "output_type": "execute_result"
    }
   ],
   "source": [
    "df = pd.read_csv('facedirection.csv')\n",
    "df.head()"
   ]
  },
  {
   "cell_type": "code",
   "execution_count": 5,
   "metadata": {},
   "outputs": [],
   "source": [
    "X = df.drop('class', axis=1)\n",
    "y = df['class']"
   ]
  },
  {
   "cell_type": "code",
   "execution_count": 6,
   "metadata": {},
   "outputs": [
    {
     "data": {
      "text/plain": [
       "class\n",
       "right    504\n",
       "front    499\n",
       "left     499\n",
       "Name: count, dtype: int64"
      ]
     },
     "execution_count": 6,
     "metadata": {},
     "output_type": "execute_result"
    }
   ],
   "source": [
    "df['class'].value_counts()"
   ]
  },
  {
   "cell_type": "code",
   "execution_count": 7,
   "metadata": {},
   "outputs": [
    {
     "data": {
      "text/plain": [
       "array([0, 0, 0, ..., 2, 2, 2])"
      ]
     },
     "execution_count": 7,
     "metadata": {},
     "output_type": "execute_result"
    }
   ],
   "source": [
    "label = preprocessing.LabelEncoder()\n",
    "y = label.fit_transform(y)\n",
    "y"
   ]
  },
  {
   "cell_type": "code",
   "execution_count": 8,
   "metadata": {},
   "outputs": [],
   "source": [
    "X_train, X_test, y_train, y_test = train_test_split(X, y, test_size=0.2, random_state=42)"
   ]
  },
  {
   "cell_type": "code",
   "execution_count": 9,
   "metadata": {},
   "outputs": [
    {
     "name": "stdout",
     "output_type": "stream",
     "text": [
      "1201\n",
      "301\n",
      "1201\n",
      "301\n"
     ]
    }
   ],
   "source": [
    "print(len(X_train))\n",
    "print(len(X_test))\n",
    "print(len(y_train))\n",
    "print(len(y_test))"
   ]
  },
  {
   "cell_type": "code",
   "execution_count": 10,
   "metadata": {},
   "outputs": [],
   "source": [
    "pipelines = {\n",
    "    'lr' : make_pipeline(StandardScaler(), LogisticRegression(multi_class='multinomial')),\n",
    "    'rf' : make_pipeline(StandardScaler(), RandomForestClassifier()),\n",
    "    'knn' : make_pipeline(StandardScaler(), KNeighborsClassifier(n_neighbors=5)),\n",
    "    'mlp' : make_pipeline(StandardScaler(), MLPClassifier(hidden_layer_sizes=(100, 50), max_iter=500))\n",
    "}"
   ]
  },
  {
   "cell_type": "code",
   "execution_count": 11,
   "metadata": {},
   "outputs": [
    {
     "name": "stdout",
     "output_type": "stream",
     "text": [
      "lr\n"
     ]
    },
    {
     "name": "stderr",
     "output_type": "stream",
     "text": [
      "c:\\Users\\user\\miniconda3\\envs\\fastapi\\Lib\\site-packages\\sklearn\\linear_model\\_logistic.py:460: ConvergenceWarning: lbfgs failed to converge (status=1):\n",
      "STOP: TOTAL NO. of ITERATIONS REACHED LIMIT.\n",
      "\n",
      "Increase the number of iterations (max_iter) or scale the data as shown in:\n",
      "    https://scikit-learn.org/stable/modules/preprocessing.html\n",
      "Please also refer to the documentation for alternative solver options:\n",
      "    https://scikit-learn.org/stable/modules/linear_model.html#logistic-regression\n",
      "  n_iter_i = _check_optimize_result(\n"
     ]
    },
    {
     "name": "stdout",
     "output_type": "stream",
     "text": [
      "rf\n",
      "knn\n",
      "mlp\n"
     ]
    },
    {
     "data": {
      "text/plain": [
       "{'lr': Pipeline(steps=[('standardscaler', StandardScaler()),\n",
       "                 ('logisticregression',\n",
       "                  LogisticRegression(multi_class='multinomial'))]),\n",
       " 'rf': Pipeline(steps=[('standardscaler', StandardScaler()),\n",
       "                 ('randomforestclassifier', RandomForestClassifier())]),\n",
       " 'knn': Pipeline(steps=[('standardscaler', StandardScaler()),\n",
       "                 ('kneighborsclassifier', KNeighborsClassifier())]),\n",
       " 'mlp': Pipeline(steps=[('standardscaler', StandardScaler()),\n",
       "                 ('mlpclassifier',\n",
       "                  MLPClassifier(hidden_layer_sizes=(100, 50), max_iter=500))])}"
      ]
     },
     "execution_count": 11,
     "metadata": {},
     "output_type": "execute_result"
    }
   ],
   "source": [
    "fit_models = {}\n",
    "for ml_model, pipeline in pipelines.items():\n",
    "  print(ml_model)\n",
    "  model = pipeline.fit(X_train, y_train)\n",
    "  fit_models[ml_model] = model\n",
    "\n",
    "fit_models"
   ]
  },
  {
   "cell_type": "code",
   "execution_count": 12,
   "metadata": {},
   "outputs": [
    {
     "name": "stdout",
     "output_type": "stream",
     "text": [
      "lr 1.0\n",
      "rf 1.0\n",
      "knn 1.0\n",
      "mlp 1.0\n"
     ]
    }
   ],
   "source": [
    "from sklearn.metrics import accuracy_score\n",
    "\n",
    "for ml_model, model in fit_models.items():\n",
    "    yhat = model.predict(X_test)\n",
    "    print(ml_model, accuracy_score(y_test, yhat))"
   ]
  },
  {
   "cell_type": "code",
   "execution_count": 13,
   "metadata": {},
   "outputs": [],
   "source": [
    "with open('./model/pred_face_direction_lr.pkl', 'wb') as f:\n",
    "  pickle.dump(fit_models['lr'],f)"
   ]
  },
  {
   "cell_type": "code",
   "execution_count": 187,
   "metadata": {},
   "outputs": [],
   "source": [
    "with open('./model/pred_face_direction_rf.pkl', 'wb') as f:\n",
    "  pickle.dump(fit_models['rf'],f)"
   ]
  },
  {
   "cell_type": "code",
   "execution_count": 188,
   "metadata": {},
   "outputs": [],
   "source": [
    "with open('./model/pred_face_direction_knn.pkl', 'wb') as f:\n",
    "  pickle.dump(fit_models['knn'],f)"
   ]
  },
  {
   "cell_type": "code",
   "execution_count": 189,
   "metadata": {},
   "outputs": [],
   "source": [
    "with open('./model/pred_face_direction_mlp.pkl', 'wb') as f:\n",
    "  pickle.dump(fit_models['mlp'],f)"
   ]
  }
 ],
 "metadata": {
  "kernelspec": {
   "display_name": "fastapi",
   "language": "python",
   "name": "python3"
  },
  "language_info": {
   "codemirror_mode": {
    "name": "ipython",
    "version": 3
   },
   "file_extension": ".py",
   "mimetype": "text/x-python",
   "name": "python",
   "nbconvert_exporter": "python",
   "pygments_lexer": "ipython3",
   "version": "3.11.5"
  },
  "orig_nbformat": 4
 },
 "nbformat": 4,
 "nbformat_minor": 2
}
